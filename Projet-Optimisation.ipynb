{
 "cells": [
  {
   "cell_type": "markdown",
   "metadata": {},
   "source": [
    "Projet Optimisation Groupe 2 : STOCK \n",
    "DESJONQUERES Henri, MARZIN Ewen "
   ]
  },
  {
   "cell_type": "markdown",
   "metadata": {},
   "source": [
    "I. Etude du problème d'optimisation\n",
    "\n",
    "1. \n",
    "\n",
    "La partie $  c^{T} \\cdot r =  \\displaystyle \\sum_{j=1}^{n} c_j * r_j$ correspond aux dépenses totales d'achat des matières premières. \n",
    "\n",
    "$\\min \\{ q, d \\}$ correspond au nombre de produit vendu qui est en fait bien le minimum entre le nombre de produit fabriqués et la quantité prévisionnelle de vente : en effet si on a fabriqué trop peu de produits par rapport à la prévision de ventes, on ne pourra vendre qu'au plus tous les produits fabriqués et inversemment si on a fabriqué plus de produit que la quantité prévisionnelle des ventes alors on vend un nombre de produits qui correpond à cette prévision de ventes. \n",
    "\n",
    "La partie $ v^{T} \\cdot \\min (q, d) = \\displaystyle \\sum_{j=1}^{n} v_j * \\min (q_j, d_j)$ correspond alors au total de recettes des ventes des ventes des produits. \n",
    "La différence de la seconde moins la première nous donne donc le gain final de la boulangerie (recettes - dépenses)\n",
    "\n",
    "2. \n",
    "\n",
    "La fonction minimum est une fonction qui n'est pas différentiable donc cela complexifie la résolution du problème d'optimisation \n",
    "\n",
    "3. \n",
    "\n",
    "On considère la fonction $h : (d,q) \\rightarrow h(d,q)$ définie par pour tout $i \\in \\llbracket ~1;p~ \\rrbracket$ : $h_i (d,q) = \\frac{q_i \\cdot e^{-\\alpha \\cdot q_i} + d_i \\cdot e^{-\\alpha \\cdot d_i}}{e^{-\\alpha \\cdot q_i} + e^{-\\alpha \\cdot d_i} }$ , avec $\\alpha >> 1$. \n",
    "\n",
    "Comme $\\alpha >> 1$, si $q_i > d_i$ alors on a $ e^{-\\alpha \\cdot d_i} >> e^{-\\alpha \\cdot q_i}$ (car $e^{\\alpha \\cdot (q_i - d_i)}  \\rightarrow + \\infty$ lorsque $\\alpha \\rightarrow +\\infty$)\n",
    "\n",
    "Ainsi on a dans ce cas : $h_i(d,q) = \\frac{q_i \\cdot e^{- \\alpha \\cdot (q_i - d_i)} + d_i}{e^{- \\alpha \\cdot (q_i - d_i)} + 1 }$, et avec $e^{- \\alpha \\cdot (q_i - d_i)} << 1$ on obtient que : \n",
    "$h_i(d,q) = \\frac{d_i + o(1)}{1+o(1)} ≈ d_i = \\min(d_i,q_i)$\n",
    "\n",
    "Si $q_i < d_i$ un raisonnement similaire nous donne dans ce cas : \n",
    "$h_i(d,q) = \\frac{d_i + o(1)}{1+o(1)} ≈ q_i = \\min(d_i,q_i)$\n",
    "\n",
    "Et si $d_i = q_i$, on obtient directement $h_i(d,q) = q_i = d_i = \\min(q_i, d_i)$\n",
    "\n",
    "On a donc bien une bonne approximation de la fonction min avec la fonction h. \n",
    "Il est plus intéressant de considérer ce problème là car la fonction h est $C^1$ comme composée de fonctions $C^1$ \n",
    "\n",
    "4. \n",
    "\n",
    "En posant $z = (q, r)$, les variables de décision, soit $z = (z_1, z_2), avec z_1 = q \\in \\mathbb (R^p)_+$ et $z_2 = r \\in \\mathbb (R^m)_+$, on a alors $n = p + m$ variables de décisions.\n",
    "\n",
    "Les contraintes s'écrivent alors : \n",
    "$c(z) = (- z_1, - z_2, Az_1 - z_2) \\leq 0$\n",
    "\n",
    "Et on cherche à résoudre le problème suivant, avec $f(z) = c^T \\cdot z_2 - v^T \\cdot h(z_1,d)$ la fontion objectif à minimiser (pour maximiser le profit = -$f(z)$, on minimise f)\n",
    "\n",
    "$$ \\min_{c(z) \\leq 0} f(z) $$"
   ]
  },
  {
   "cell_type": "markdown",
   "metadata": {},
   "source": [
    "II. Etude et résolution numérique \n",
    "\n",
    "5. \n",
    "\n",
    "Comme on est dans le cadre d'un problème d'optimisation sous contraintes linéaires, on pourrait penser à la méthode du simplexe, mais celle-ci necessite une égalité dans les contraintes à la place d'une inégalité. \n",
    "\n",
    "On peut donc utiliser la méthode SLQS pour résoudre le problème numériquement"
   ]
  },
  {
   "cell_type": "markdown",
   "metadata": {},
   "source": [
    "II. Etude et résolution numérique\n",
    "\n",
    "6. "
   ]
  },
  {
   "cell_type": "code",
   "execution_count": null,
   "metadata": {},
   "outputs": [],
   "source": [
    "import numpy as np\n",
    "import scipy \n",
    "alpha = 0.1\n",
    "c = 10**-3 *np.array([30, 1, 1.3, 4, 1])\n",
    "v = np.array([0.9, 1.5, 1.1])\n",
    "d = np.array([400, 67, 33])\n",
    "A = np.array([3.5, 2, 1], [250, 80, 25], [0, 8, 3], [0, 40, 10], [0, 8.5, 0])\n",
    "\n",
    "def h(q, d, alpha) :\n",
    "    hp = np.zeros(len(q))\n",
    "    for i in range(len(q)): \n",
    "        hp[i] = (q[i]*np.exp(-alpha*q[i]) - d[i]*np.exp(-alpha*d[i]))/(np.exp(-alpha*q[i]) + np.exp(-alpha*d[i]))\n",
    "    return hp\n",
    "\n",
    "def f(q, r, d, c, v, alpha) : \n",
    "    hp = h(q, d, alpha)\n",
    "    f = 0 \n",
    "    for k in range(len(c)): \n",
    "        f += c[k]*r[k]                                      ### on ajoute c^T*r = np.sum(c[k]*r[k])###\n",
    "    for j in range(len(q)): \n",
    "        f -= v[j]*hp[j]                                      ### on soustrait v^T*h = np.sum(v[j]*h[j])###\n",
    "    return f\n",
    "\n",
    "\n",
    "\n"
   ]
  },
  {
   "cell_type": "markdown",
   "metadata": {},
   "source": [
    "III. Etude du problème non régularisé \n",
    "\n",
    "8. (a) On a toujours $z = (z_1, z_2) = (q, r) \\in \\mathbb R^p x R^m$ et $n = p+m$ le nombre de ces variables de décisions. \n",
    "\n",
    "On a toujours les contraintes $c(z)$ telles que : \n",
    "$c(z) = (- z_1, - z_2, Az_1 - z_2) \\leq 0$\n",
    "\n",
    "Néanmoins, la fonction à minimiser s'écrit cette fois sous la forme :\n",
    "$f(z) = c^T \\cdot z_2 - v^T \\cdot min\\{ z_1, d \\}$\n",
    "\n",
    "(b) Supposons par l'absurde que la contrainte (1) : $Az_1 - z_2 = Aq - r \\leq 0$, n'est pas active à l'optimum. On note $z^* = (q^*, r^*)$ le minimiseur. \n",
    "\n",
    "On a alors l'existence d'un indice $i_0 \\in \\llbracket 1 ~;~ m \\rrbracket$ tel que $(Aq^*)_{i_0} > r^*_{i_0}$. \n",
    "\n",
    "On pose $\\~{r} = (r^*_1, ..., r^*_{i_0 -1}, (Aq*)_{i_0}, r^*_{i_0 +1}, ..., r^*_m)$, on a alors $Aq^* \\leq \\~{r}~$ et comme $(Aq^*)_{i_0} > r^*_{i_0}$ : \n",
    "\n",
    "$v^T \\cdot min\\{q^*, d\\} - c^T \\cdot \\~{r} > v^T \\cdot min\\{q^*, d\\} - c^T \\cdot r*$\n",
    "\n",
    "Soit $Aq^* \\leq \\~{r}$, $q^* \\geq 0$, $\\~{r} \\geq 0$ et $f(q^*, \\~{r}) < f(q^*, r^*)$. \n",
    "\n",
    "CONTRADICTION avec l'hypothèse de $(q^*,r^*)$ minimiseur.\n",
    "\n",
    "On conlut que la contrainte est donc bien active à l'optimum\n",
    "\n",
    "(c)"
   ]
  },
  {
   "cell_type": "markdown",
   "metadata": {},
   "source": []
  }
 ],
 "metadata": {
  "language_info": {
   "name": "python"
  }
 },
 "nbformat": 4,
 "nbformat_minor": 2
}
