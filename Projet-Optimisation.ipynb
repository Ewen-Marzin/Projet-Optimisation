{
 "cells": [
  {
   "cell_type": "markdown",
   "metadata": {},
   "source": [
    "Projet Optimisation Groupe 2 : STOCK \n",
    "DESJONQUERES Henri, MARZIN Ewen "
   ]
  },
  {
   "cell_type": "markdown",
   "metadata": {},
   "source": [
    "I. Etude du problème d'optimisation\n",
    "\n",
    "1. La partie $  c^{T} \\cdot r =  \\displaystyle \\sum_{j=1}^{n} c_j * r_j$ correspond aux dépenses totales d'achat des matières premières. \n",
    "\n",
    "\\min \\{ q, d \\} correspond au nombre de produit vendu qui est en fait bien le minimum entre le nombre de produit fabriqués et la quantité prévisionnelle de vente : en effet si on a fabriqué trop peu de produits par rapport à la prévision de ventes, on ne pourra vendre qu'au plus tous les produits fabriqués et inversemment si on a fabriqué plus de produit que la quantité prévisionnelle des ventes alors on vend un nombre de produits qui correpond à cette prévision de ventes. \n",
    "\n",
    "La partie $ v^{T} \\cdot \\min (q, d) = \\displaystyle \\sum_{j=1}^{n} v_j * \\min (q_j, d_j)$ correspond alors au total de recettes des ventes des ventes des produits. \n",
    "La différence de la seconde moins la première nous donne donc le gain final de la boulangerie (recettes - dépenses)\n",
    "\n",
    "2. La fonction minimum est une fonction qui n'est pas différentiable donc cela complexifie la résolution du problème d'optimisation \n",
    "\n",
    "3. On considère la fonction $h : (d,q) -> h(d,q)$ définie par pour tout $i \\in \\llbracket ~1;p~ \\rrbracket$ "
   ]
  }
 ],
 "metadata": {
  "language_info": {
   "name": "python"
  }
 },
 "nbformat": 4,
 "nbformat_minor": 2
}
