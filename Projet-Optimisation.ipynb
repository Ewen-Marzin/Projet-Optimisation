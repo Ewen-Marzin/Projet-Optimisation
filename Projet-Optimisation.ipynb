{
 "cells": [
  {
   "cell_type": "markdown",
   "metadata": {},
   "source": [
    "Projet Optimisation Groupe 2 : STOCK \n",
    "DESJONQUERES Henri, MARZIN Ewen "
   ]
  },
  {
   "cell_type": "markdown",
   "metadata": {},
   "source": [
    "I. Etude du problème d'optimisation\n",
    "\n",
    "1. \n",
    "\n",
    "La partie $  c^{T} \\cdot r =  \\displaystyle \\sum_{j=1}^{n} c_j * r_j$ correspond aux dépenses totales d'achat des matières premières. \n",
    "\n",
    "$\\min \\{ q, d \\}$ correspond au nombre de produit vendu qui est en fait bien le minimum entre le nombre de produit fabriqués et la quantité prévisionnelle de vente : en effet si on a fabriqué trop peu de produits par rapport à la prévision de ventes, on ne pourra vendre qu'au plus tous les produits fabriqués et inversemment si on a fabriqué plus de produit que la quantité prévisionnelle des ventes alors on vend un nombre de produits qui correpond à cette prévision de ventes. \n",
    "\n",
    "La partie $ v^{T} \\cdot \\min (q, d) = \\displaystyle \\sum_{j=1}^{n} v_j * \\min (q_j, d_j)$ correspond alors au total de recettes des ventes des ventes des produits. \n",
    "La différence de la seconde moins la première nous donne donc le gain final de la boulangerie (recettes - dépenses)\n",
    "\n",
    "2. \n",
    "\n",
    "La fonction minimum est une fonction qui n'est pas différentiable donc cela complexifie la résolution du problème d'optimisation \n",
    "\n",
    "3. \n",
    "\n",
    "On considère la fonction $h : (d,q) \\rightarrow h(d,q)$ définie par pour tout $i \\in \\llbracket ~1;p~ \\rrbracket$ : $h_i (d,q) = \\frac{q_i \\cdot e^{-\\alpha \\cdot q_i} + d_i \\cdot e^{-\\alpha \\cdot d_i}}{e^{-\\alpha \\cdot q_i} + e^{-\\alpha \\cdot d_i} }$ , avec $\\alpha >> 1$. \n",
    "\n",
    "Comme $\\alpha >> 1$, si $q_i > d_i$ alors on a $ e^{-\\alpha \\cdot d_i} >> e^{-\\alpha \\cdot q_i}$ (car $e^{\\alpha \\cdot (q_i - d_i)}  \\rightarrow + \\infty$ lorsque $\\alpha \\rightarrow +\\infty$)\n",
    "\n",
    "Ainsi on a dans ce cas : $h_i(d,q) = \\frac{q_i \\cdot e^{- \\alpha \\cdot (q_i - d_i)} + d_i}{e^{- \\alpha \\cdot (q_i - d_i)} + 1 }$, et avec $e^{- \\alpha \\cdot (q_i - d_i)} << 1$ on obtient que : \n",
    "$h_i(d,q) = \\frac{d_i + o(1)}{1+o(1)} ≈ d_i = \\min(d_i,q_i)$\n",
    "\n",
    "Si $q_i < d_i$ un raisonnement similaire nous donne dans ce cas : \n",
    "$h_i(d,q) = \\frac{d_i + o(1)}{1+o(1)} ≈ q_i = \\min(d_i,q_i)$\n",
    "\n",
    "Et si $d_i = q_i$, on obtient directement $h_i(d,q) = q_i = d_i = \\min(q_i, d_i)$\n",
    "\n",
    "On a donc bien une bonne approximation de la fonction min avec la fonction h. \n",
    "Il est plus intéressant de considérer ce problème là car la fonction h est $C^1$ comme composée de fonctions $C^1$ \n",
    "\n",
    "4. \n",
    "\n",
    "En posant $z = (q, r)$, les variables de décision, soit $z = (z_1, z_2), avec z_1 = q \\in \\mathbb (R^p)_+$ et $z_2 = r \\in \\mathbb (R^m)_+$, on a alors $n = p + m$ variables de décisions.\n",
    "\n",
    "Les contraintes s'écrivent alors : \n",
    "$c(z) = (- z_1, - z_2, Az_1 - z_2) \\leq 0$\n",
    "\n",
    "Et on cherche à résoudre le problème suivant, avec $f(z) = c^T \\cdot z_2 - v^T \\cdot h(z_1,d)$ la fontion objectif à minimiser (pour maximiser le profit = -$f(z)$, on minimise f)\n",
    "\n",
    "$$ \\min_{c(z) \\leq 0} f(z) $$"
   ]
  },
  {
   "cell_type": "markdown",
   "metadata": {},
   "source": [
    "II. Etude et résolution numérique \n",
    "\n",
    "5. \n",
    "\n",
    "Comme on est dans le cadre d'un problème d'optimisation sous contraintes linéaires, on pourrait penser à la méthode du simplexe, mais celle-ci necessite une égalité dans les contraintes à la place d'une inégalité. \n",
    "\n",
    "On peut donc utiliser la méthode SLQS pour résoudre le problème numériquement"
   ]
  },
  {
   "cell_type": "markdown",
   "metadata": {},
   "source": [
    "III. Etude du problème non régularisé \n",
    "\n",
    "8. (a) On a toujours $z = (z_1, z_2) = (q, r) \\in \\mathbb R^p x R^m$ et $n = p+m$ le nombre de ces variables de décisions. \n",
    "\n",
    "On a toujours les contraintes $c(z)$ telles que : \n",
    "$c(z) = (- z_1, - z_2, Az_1 - z_2) \\leq 0$\n",
    "\n",
    "Néanmoins, la fonction à minimiser s'écrit cette fois sous la forme :\n",
    "$f(z) = c^T \\cdot z_2 - v^T \\cdot min\\{ z_1, d \\}$\n",
    "\n",
    "(b) Supposons par l'absurde que la contrainte (1) : $Az_1 - z_2 = Aq - r \\leq 0$, n'est pas active à l'optimum. On note $z^* = (q^*, r^*)$ le minimiseur. \n",
    "\n",
    "On a alors l'existence d'un indice $i_0 \\in \\llbracket 1 ~;~ m \\rrbracket$ tel que $(Aq^*)_{i_0} > r^*_{i_0}$. \n",
    "\n",
    "On pose $\\~{r} = (r^*_1, ..., r^*_{i_0 -1}, (Aq*)_{i_0}, r^*_{i_0 +1}, ..., r^*_m)$, on a alors $Aq^* \\leq \\~{r}~$ et comme $(Aq^*)_{i_0} > r^*_{i_0}$ : \n",
    "\n",
    "$v^T \\cdot min\\{q^*, d\\} - c^T \\cdot \\~{r} > v^T \\cdot min\\{q^*, d\\} - c^T \\cdot r*$\n",
    "\n",
    "Soit $Aq^* \\leq \\~{r}$, $q^* \\geq 0$, $\\~{r} \\geq 0$ et $f(q^*, \\~{r}) < f(q^*, r^*)$. \n",
    "\n",
    "CONTRADICTION avec l'hypothèse de $(q^*,r^*)$ minimiseur.\n",
    "\n",
    "On conlut que la contrainte est donc bien active à l'optimum\n",
    "\n",
    "(c) On peut donc restreindre l'étude en remplaçant la contrainte d'inégalité par une contrainte d'égalité : \n",
    "$Aq = r$, ou $Az_1 = z_2$. \n",
    "\n",
    "Comme on a établi une relation entre q et r, on peut remplacer r par la valeur de $Aq$ correspondante et donc se ramener à un problème de minimisation à une seule variable : q. \n",
    "\n",
    "Le nombre de variables de décision est donc n = p et l'unique contrainte restante est la positivité de q : $c(q) = -q \\leq 0$ (que l'on peut résumer comme $q \\geq 0$ )\n",
    "\n",
    "Le problème de minimisation devient donc, avec $\\~{f} (q) = \\displaystyle \\sum_{k=0}^{K} (c^T \\cdot (Aq) - v^T \\cdot min\\{q, d^k \\}) \\cdot \\pi^k$ la fontion objectif à minimiser :\n",
    "\n",
    "\n",
    "$$ \\min_{q \\geq 0} \\~{f}(q) $$"
   ]
  },
  {
   "cell_type": "markdown",
   "metadata": {},
   "source": [
    "9. (a) \n",
    "En premier lieu, pour $k \\in \\llbracket on a que si $u_k \\leq d^k$ et $u_k \\leq q$, alors $u_k \\leq min\\{q,d\\}$ et alors comme les coefficients de v sont positifs ou nuls :\n",
    "\n",
    "$v^T \\cdot u_k = \\displaystyle \\sum_{i=1}^{p} v_i \\cdot (u_k)_i \\leq v^T \\cdot min\\{q, d^k\\}$\n",
    "\n",
    "Ainsi $$\\max{u_k \\leq min\\{q, d\\}} v^T \\cdot u_k \\leq \\max_{q} v^T \\cdot min\\{q,d^k\\}$$\n",
    "\n",
    "En prenant $q^*$ tel que $\\max_{q} v^T \\cdot min\\{q,d^k\\} = v^T \\cdot min\\{q^*, d^k \\}$ et $u_k^*$ tel que $$\\max{u_k \\leq min\\{q^*, d\\}} v^T \\cdot u_k = v^T \\cdot u_k^*$,  \n",
    ". \n",
    "\n",
    "Supposons par l'absurde qu'on ait $v^T \\cdot u_k^* <  v^T \\cdot min\\{q^*, d^k \\}$. Posons $\n",
    "\n",
    "\n"
   ]
  }
 ],
 "metadata": {
  "language_info": {
   "name": "python"
  }
 },
 "nbformat": 4,
 "nbformat_minor": 2
}
