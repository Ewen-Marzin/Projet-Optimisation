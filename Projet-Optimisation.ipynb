{
 "cells": [
  {
   "cell_type": "markdown",
   "metadata": {},
   "source": [
    "Projet Optimisation Groupe 2 : STOCK \n",
    "DESJONQUERES Henri, MARZIN Ewen "
   ]
  },
  {
   "cell_type": "markdown",
   "metadata": {},
   "source": [
    "I. Etude du problème d'optimisation\n",
    "\n",
    "1. \n",
    "\n",
    "La partie $  c^{T} \\cdot r =  \\displaystyle \\sum_{j=1}^{n} c_j * r_j$ correspond aux dépenses totales d'achat des matières premières. \n",
    "\n",
    "$\\min \\{ q, d \\}$ correspond au nombre de produit vendu qui est en fait bien le minimum entre le nombre de produit fabriqués et la quantité prévisionnelle de vente : en effet si on a fabriqué trop peu de produits par rapport à la prévision de ventes, on ne pourra vendre qu'au plus tous les produits fabriqués et inversemment si on a fabriqué plus de produit que la quantité prévisionnelle des ventes alors on vend un nombre de produits qui correpond à cette prévision de ventes. \n",
    "\n",
    "La partie $ v^{T} \\cdot \\min (q, d) = \\displaystyle \\sum_{j=1}^{n} v_j * \\min (q_j, d_j)$ correspond alors au total de recettes des ventes des ventes des produits. \n",
    "La différence de la seconde moins la première nous donne donc le gain final de la boulangerie (recettes - dépenses)\n",
    "\n",
    "2. \n",
    "\n",
    "La fonction minimum est une fonction qui n'est pas différentiable donc cela complexifie la résolution du problème d'optimisation \n",
    "\n",
    "3. \n",
    "\n",
    "On considère la fonction $h : (d,q) \\rightarrow h(d,q)$ définie par pour tout $i \\in \\llbracket ~1;p~ \\rrbracket$ : $h_i (d,q) = \\frac{q_i \\cdot e^{-\\alpha \\cdot q_i} + d_i \\cdot e^{-\\alpha \\cdot d_i}}{e^{-\\alpha \\cdot q_i} + e^{-\\alpha \\cdot d_i} }$ , avec $\\alpha >> 1$. \n",
    "\n",
    "Comme $\\alpha >> 1$, si $q_i > d_i$ alors on a $ e^{-\\alpha \\cdot d_i} >> e^{-\\alpha \\cdot q_i}$ (car $e^{\\alpha \\cdot (q_i - d_i)}  \\rightarrow + \\infty$ lorsque $\\alpha \\rightarrow +\\infty$)\n",
    "\n",
    "Ainsi on a dans ce cas : $h_i(d,q) = \\frac{q_i \\cdot e^{- \\alpha \\cdot (q_i - d_i)} + d_i}{e^{- \\alpha \\cdot (q_i - d_i)} + 1 }$, et avec $e^{- \\alpha \\cdot (q_i - d_i)} << 1$ on obtient que : \n",
    "$h_i(d,q) = \\frac{d_i + o(1)}{1+o(1)} ≈ d_i = \\min(d_i,q_i)$\n",
    "\n",
    "Si $q_i < d_i$ un raisonnement similaire nous donne dans ce cas : \n",
    "$h_i(d,q) = \\frac{d_i + o(1)}{1+o(1)} ≈ q_i = \\min(d_i,q_i)$\n",
    "\n",
    "Et si $d_i = q_i$, on obtient directement $h_i(d,q) = q_i = d_i = \\min(q_i, d_i)$\n",
    "\n",
    "On a donc bien une bonne approximation de la fonction min avec la fonction h. \n",
    "Il est plus intéressant de considérer ce problème là car la fonction h est $C^1$ comme composée de fonctions $C^1$ \n",
    "\n",
    "4. \n",
    "\n",
    "En posant $z = (q, r)$, les variables de décision, soit $z = (z_1, z_2)$, avec $z_1 = q \\in \\mathbb R^p_+$ et $z_2 = r \\in \\mathbb R^m_+$, on a alors $n = p + m$ variables de décisions.\n",
    "\n",
    "Les contraintes s'écrivent alors : \n",
    "$c(z) = (- z_1, - z_2, Az_1 - z_2) \\leq 0$\n",
    "\n",
    "Et on cherche à résoudre le problème suivant, avec $f(z) = c^T \\cdot z_2 - v^T \\cdot h(z_1,d)$ la fontion objectif à minimiser (pour maximiser le profit = -$f(z)$, on minimise f)\n",
    "\n",
    "$$ \\min_{c(z) \\leq 0} f(z) $$"
   ]
  },
  {
   "cell_type": "markdown",
   "metadata": {},
   "source": [
    "II. Etude et résolution numérique \n",
    "\n",
    "5. \n",
    "\n",
    "Comme on est dans le cadre d'un problème d'optimisation sous contraintes linéaires, on aurait pu penser à la méthode du simplexe, mais celle-ci necessite une égalité dans les contraintes à la place d'une inégalité. \n",
    "\n",
    "On peut donc utiliser une méthode SLSQP pour résoudre le problème numériquement"
   ]
  },
  {
   "cell_type": "markdown",
   "metadata": {},
   "source": [
    "II. 6. "
   ]
  },
  {
   "cell_type": "code",
   "execution_count": 60,
   "metadata": {},
   "outputs": [
    {
     "name": "stdout",
     "output_type": "stream",
     "text": [
      "q* (quantités produites) = [402.10730848  73.1035627   42.43687785]\n",
      "r* (matières premières achetées) = [  1596.01958291 107436.03408132    712.13913511   3348.51128631\n",
      "    621.38028291]\n"
     ]
    }
   ],
   "source": [
    "import numpy as np\n",
    "from scipy.optimize import minimize\n",
    "\n",
    "\n",
    "# Données\n",
    "alpha = 0.1\n",
    "c = 1e-3 * np.array([30, 1, 1.3, 4, 1])\n",
    "v = np.array([0.9, 1.5, 1.1])\n",
    "d = np.array([400, 67, 33])\n",
    "A = np.array([\n",
    "    [3.5, 2, 1],\n",
    "    [250, 80, 25],\n",
    "    [0, 8, 3],\n",
    "    [0, 40, 10],\n",
    "    [0, 8.5, 0]\n",
    "])\n",
    "m, p = A.shape\n",
    "\n",
    "# Fonction h \n",
    "def h(q, d, alpha):\n",
    "    return (q * np.exp(-alpha * q) + d * np.exp(-alpha * d)) / (np.exp(-alpha * q) + np.exp(-alpha * d))\n",
    "\n",
    "\n",
    "def fonction(z):\n",
    "    q = z[:p]\n",
    "    r = z[p:]\n",
    "    revenue = v @ h(q, d, alpha)\n",
    "    cout = c @ r\n",
    "    return - (revenue - cout)\n",
    "\n",
    "\n",
    "def contraintes(z):\n",
    "    q = z[:p]\n",
    "    r = z[p:]\n",
    "    return r - A @ q \n",
    "\n",
    "cons = {'type': 'ineq', 'fun': contraintes}\n",
    "\n",
    "z0 = np.zeros(p + m)\n",
    "\n",
    "\n",
    "res = minimize(fonction, z0, method='SLSQP', constraints=cons)\n",
    "\n",
    "\n",
    "q_opt = res.x[:p]\n",
    "r_opt = res.x[p:]\n",
    "\n",
    "print(\"q* (quantités produites) =\", q_opt)\n",
    "print(\"r* (matières premières achetées) =\",r_opt)"
   ]
  },
  {
   "cell_type": "markdown",
   "metadata": {},
   "source": [
    "6. \n",
    "On obtient des quantités proches de la demande pour alpha petit (de l'ordre de 0.1) et des quantités nettement plus faibles (autour de 73 pour la premiere valeur par rapport à 400) quand alpha est plus grand (10). \n",
    "Cela semble étonnant car on s'attend a avoir une production assez proche de la demande au minimum pour maximiser le profit et la fonction h est censée approchée la fonction min du problème quand alpha devient grand devant 1. \n",
    "\n",
    "On trouve donc l'inverse et des quantités qui s'éloignent de la demande à mesure que alpha grandit et donc que la fonction h approche la fonction min du problème."
   ]
  },
  {
   "cell_type": "markdown",
   "metadata": {},
   "source": [
    "II. 7. (a) On souhaite cette fois-ci maximiser l'espérance du profit qui vaut : \n",
    "\n",
    "$\\mathbb E (v^T \\cdot h(q, d^k) -c^T\\cdot r) = \\displaystyle \\sum_{k=0}^{K} \\pi^k \\cdot (v^T \\cdot h(q,d^k) - c^T \\cdot r)$. \n",
    "\n",
    "Les variables de décisions : $z = (q, r)$ restent identiques tout comme les contraintes $c(z) = (- z_1, - z_2, Az_1 - z_2) \\leq 0$ et la fonction objectif à minimiser est alors : \n",
    "\n",
    "$f(z) = - \\displaystyle \\sum_{k=0}^{K} \\pi^k \\cdot (v^T \\cdot h(q,d^k) - c^T \\cdot r)$\n",
    "\n",
    "(b)"
   ]
  },
  {
   "cell_type": "code",
   "execution_count": 61,
   "metadata": {},
   "outputs": [
    {
     "name": "stdout",
     "output_type": "stream",
     "text": [
      "Quantités optimales avec incertitude: [406.66848798  77.13245587  54.30512469]\n",
      "Matières premières achetées: [  1631.90974433 109195.34658031    779.97502099   3628.34948152\n",
      "    655.62587486]\n"
     ]
    }
   ],
   "source": [
    "d1 = np.array([400, 67, 33])\n",
    "d2 = np.array([500, 80, 53])\n",
    "d3 = np.array([300, 60, 43])\n",
    "demands = [d1, d2, d3]\n",
    "probs = [0.5, 0.3, 0.2]\n",
    "\n",
    "def fonction2(z):\n",
    "    q = z[:p]\n",
    "    r = z[p:]\n",
    "    revenu_moyen = sum(p * (v @ h(q, d, alpha)) for p, d in zip(probs, demands))\n",
    "    cout = c @ r\n",
    "    return - (revenu_moyen - cout)\n",
    "\n",
    "res = minimize(fonction2, z0, method='SLSQP', constraints=cons)\n",
    "\n",
    "\n",
    "q_opt = res.x[:p]\n",
    "r_opt = res.x[p:]\n",
    "\n",
    "print(\"Quantités optimales avec incertitude:\", q_opt)\n",
    "print(\"Matières premières achetées:\",r_opt)"
   ]
  },
  {
   "cell_type": "markdown",
   "metadata": {},
   "source": [
    "On obtient là encore des résulats cohérents proches de la demande (et de la demande pondérée) lorsque alpha est faible, de l'ordre de 0.1 et à l'inverse quand alpha est grand (alpha = 10), les valeurs renvoyées sont assez significativement inférieures à celles de la demande, surtout pour la première valeur. \n",
    "\n",
    "Les réponses sont en adéquation avec celles de la question 6., les légères différences s'expliquant par la considération des 3 demandes différentes, que l'on a pondérées."
   ]
  },
  {
   "cell_type": "markdown",
   "metadata": {},
   "source": [
    "III. Etude du problème non régularisé \n",
    "\n",
    "8. (a) On a toujours $z = (z_1, z_2) = (q, r) \\in \\mathbb R^p x R^m$ et $n = p+m$ le nombre de ces variables de décisions. \n",
    "\n",
    "On a toujours les contraintes $c(z)$ telles que : \n",
    "$c(z) = (- z_1, - z_2, Az_1 - z_2) \\leq 0$\n",
    "\n",
    "Néanmoins, la fonction à minimiser s'écrit cette fois sous la forme :\n",
    "$f(z) = c^T \\cdot z_2 - v^T \\cdot min\\{ z_1, d \\}$\n",
    "\n",
    "(b) Supposons par l'absurde que la contrainte (1) : $Az_1 - z_2 = Aq - r \\leq 0$, n'est pas active à l'optimum. On note $z^* = (q^*, r^*)$ le minimiseur de f.\n",
    "\n",
    "On a alors l'existence d'un indice $i_0 \\in \\llbracket 1 ~;~ m \\rrbracket$ tel que $(Aq^*)_{i_0} < r^*_{i_0}$. \n",
    "\n",
    "On pose $\\~{r} = (r^*_1, ..., r^*_{i_0 -1}, (Aq^*)_{i_0}, r^*_{i_0 +1}, ..., r^*_m)$, on a alors $Aq^* \\leq \\~{r}~$ et comme $(Aq^*)_{i_0} < r^*_{i_0}$ : \n",
    "\n",
    "$v^T \\cdot min\\{q^*, d\\} - c^T \\cdot \\~{r} > v^T \\cdot min\\{q^*, d\\} - c^T \\cdot r*$\n",
    "\n",
    "Soit $Aq^* \\leq \\~{r}$, $q^* \\geq 0$, $\\~{r} \\geq 0$ et $f(q^*, \\~{r}) < f(q^*, r^*)$. \n",
    "\n",
    "CONTRADICTION avec l'hypothèse de $(q^*,r^*)$ minimiseur de f.\n",
    "\n",
    "On conlut que la contrainte est donc bien active à l'optimum\n",
    "\n",
    "(c) On peut donc restreindre l'étude en remplaçant la contrainte d'inégalité par une contrainte d'égalité : \n",
    "$Aq = r$, ou $Az_1 = z_2$. \n",
    "\n",
    "Comme on a établi une relation entre q et r, on peut remplacer r par la valeur de $Aq$ correspondante et donc se ramener à un problème de minimisation à une seule variable : q. \n",
    "\n",
    "Le nombre de variables de décision est donc n = p et l'unique contrainte restante est la positivité de q : $c(q) = -q \\leq 0$ (que l'on peut résumer comme $q \\geq 0$ )\n",
    "\n",
    "Le problème de minimisation devient donc, avec $\\~{f} (q) = \\displaystyle \\sum_{k=0}^{K} (c^T \\cdot (Aq) - v^T \\cdot min\\{q, d^k \\}) \\cdot \\pi^k$ la fontion objectif à minimiser :\n",
    "\n",
    "\n",
    "$$ \\min_{q \\geq 0} \\~{f}(q) $$"
   ]
  },
  {
   "cell_type": "markdown",
   "metadata": {},
   "source": [
    "9. (a) \n",
    "En premier lieu, pour $k \\in \\llbracket 1~;~ K \\rrbracket$ on a que si $u_k \\leq d^k$ et $u_k \\leq q$, alors $u_k \\leq min\\{q,d\\}$ et alors comme les coefficients de v sont positifs ou nuls :\n",
    "\n",
    "$v^T \\cdot u_k = \\displaystyle \\sum_{i=1}^{p} v_i \\cdot (u_k)_i \\leq v^T \\cdot min\\{q, d^k\\}$\n",
    "\n",
    "Ainsi $$\\max_{u_k \\leq min\\{q, d\\}} v^T \\cdot u_k \\leq \\max_{q} v^T \\cdot min\\{q,d^k\\}$$\n",
    "\n",
    "On prend $q^*$ tel que $$\\max_{q} v^T \\cdot min\\{q,d^k\\} = v^T \\cdot min\\{q^*, d^k \\}$$ et $u_k^*$ tel que $$\\max_{u_k \\leq min\\{q^*, d^k\\}} v^T \\cdot u_k = v^T \\cdot u_k^*$$  \n",
    "\n",
    "\n",
    "Supposons par l'absurde qu'on ait $v^T \\cdot u_k^* <  v^T \\cdot min\\{q^*, d^k \\}$. \n",
    "\n",
    "Posons $\\~{u_k} = \\frac{u_k^* + min\\{q^*, d^k\\}}{2} \\geq u_k^*$, et au moins une des coordonnées est strictement supérieure à l'autre (car $v^T \\cdot u_k^* <  v^T \\cdot min\\{q^*, d^k \\}$)\n",
    "\n",
    "On a aussi $\\~{u_k} \\leq min\\{q^*, d^k\\}$, on a donc : \n",
    "\n",
    "$v^T \\cdot u_k^* < v^T \\cdot \\~{u_k} \\leq v^T \\cdot min\\{q^*, d^k\\}$. \n",
    "\n",
    "CONTRADICTION avec la propriété de maximum vérifié par $u_k^*$\n",
    "\n",
    "(b) \n",
    "\n",
    "On veut de nouveau maximiser l'espérance. En remplaçant pour $k \\in \\llbracket 1~;~ K \\rrbracket$ : $min\\{q^*, d^k\\}$ par $u_k$ on a alors avec $z = (u_1,..., u_K, q)$, $n = (K+1) \\cdot p$ \n",
    "\n",
    "et les contraintes pour $k \\in \\llbracket 1~;~ K \\rrbracket$ : $c_{k1} : u_k - q \\leq 0$, $c_{k2} : u_k - d^k \\leq 0$ : \n",
    "\n",
    "$$\\min_{u_k \\leq q, u_k \\leq d^k, k \\in \\llbracket 1~;~ K \\rrbracket } \\displaystyle \\sum_{k=0}^{K} (c^T \\cdot (Aq) - v^T \\cdot u_k) \\cdot \\pi^k$$\n",
    "\n",
    "Sans le minimum, la fonction est maintenant différentiable et la résolution du problème est donc facilitée. \n",
    "\n",
    "(c)"
   ]
  },
  {
   "cell_type": "code",
   "execution_count": 62,
   "metadata": {},
   "outputs": [
    {
     "name": "stdout",
     "output_type": "stream",
     "text": [
      "q* (quantités produites) = [400.  80.  53.]\n"
     ]
    }
   ],
   "source": [
    "K = 3\n",
    "def fonction3(z):\n",
    "    u = [0 for k in range(K)]\n",
    "    for k in range(K):\n",
    "        u[k] = z[k*p : (k+1)*p]\n",
    "    q = z[K*p :]\n",
    "    S=0\n",
    "    for k in range(K):\n",
    "        S -= (v @ u[k] - c @ (A @ q))*probs[k]\n",
    "    return S\n",
    "\n",
    "\n",
    "def contraintes3(z):\n",
    "    u = [0 for k in range(K)]\n",
    "    for k in range(K):\n",
    "        u[k] = z[k*p : (k+1)*p]\n",
    "    q = z[K*p :]\n",
    "    c=[]\n",
    "    for k in range(K):\n",
    "        c.append(q - u[k])\n",
    "        c.append(demands[k] - u[k])\n",
    "    return np.concatenate(c)\n",
    "    \n",
    "\n",
    "cons3 = {'type': 'ineq', 'fun': contraintes3}\n",
    "\n",
    "z0 = np.zeros((K+1)*p)\n",
    "\n",
    "res = minimize(fonction3, z0, method='SLSQP', constraints=cons3)\n",
    "\n",
    "q_opt = res.x[K*p:]\n",
    "\n",
    "print(\"q* (quantités produites) =\", q_opt)\n"
   ]
  },
  {
   "cell_type": "markdown",
   "metadata": {},
   "source": [
    "On remarque que les quantités produites obtenues sont proches des demandes, (et de la pondération des demandes) ce qui est cohérent avec notre intuition qu'à l'optimum,  une production proche de la demande permet bien de maximiser le profit. Cela contraste donc avec nos résultats précédents assez éloignés de la demande à l'optimum."
   ]
  },
  {
   "cell_type": "markdown",
   "metadata": {},
   "source": [
    "10. \n",
    "(a) On souhaite réaliser une méthode de résolution non lisse dans le cadre de la fonction min non différentiable. \n",
    "On va utiliser la méthode de minimisation proximale qui utilise l'opérateur proximal de la fonction.\n",
    "\n",
    "(b)"
   ]
  },
  {
   "cell_type": "code",
   "execution_count": 63,
   "metadata": {},
   "outputs": [
    {
     "name": "stdout",
     "output_type": "stream",
     "text": [
      "Quantités optimales : [400.00002905  80.00000539  53.00006873]\n"
     ]
    }
   ],
   "source": [
    "def f_min(q, d):\n",
    "    return np.minimum(q, d)\n",
    "\n",
    "\n",
    "def fonction4(q):\n",
    "    cout4 = c @ A @ q\n",
    "    return sum(p * (cout4 - np.dot(v, f_min(q, d))) for p, d in zip(probs, demands))\n",
    "\n",
    "\n",
    "def proximal(x, l, f):\n",
    "    def prox_obj(s):\n",
    "        return f(s) + np.linalg.norm(s - x)**2 / (2 * l)\n",
    "    res = minimize(prox_obj, np.zeros_like(x), method='SLSQP')\n",
    "    return res.x\n",
    "\n",
    "def minimisation_proximal(epsilon,l):\n",
    "    x = [np.zeros(3),proximal(np.zeros(3),l,fonction4)]\n",
    "    i = 1\n",
    "    while np.linalg.norm(x[i] - x[i-1]) >= epsilon:\n",
    "        x += [proximal(x[i],l,fonction4)]\n",
    "        i += 1\n",
    "    return x[-1]\n",
    "\n",
    "print(\"Quantités optimales :\", minimisation_proximal(0.1, 1))"
   ]
  },
  {
   "cell_type": "markdown",
   "metadata": {},
   "source": [
    "On remarque qu'on a une très bonne précision des quantités renvoyées quand epsilon = 0.1, les quantités etant encore proches de la demande, et très proches de celles trouvées à la question 9.c), ce qui semble plus pertinent que les premiers résultats."
   ]
  }
 ],
 "metadata": {
  "kernelspec": {
   "display_name": "base",
   "language": "python",
   "name": "python3"
  },
  "language_info": {
   "codemirror_mode": {
    "name": "ipython",
    "version": 3
   },
   "file_extension": ".py",
   "mimetype": "text/x-python",
   "name": "python",
   "nbconvert_exporter": "python",
   "pygments_lexer": "ipython3",
   "version": "3.12.4"
  }
 },
 "nbformat": 4,
 "nbformat_minor": 2
}
