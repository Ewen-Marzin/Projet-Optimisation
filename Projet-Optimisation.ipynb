{
 "cells": [
  {
   "cell_type": "markdown",
   "metadata": {},
   "source": [
    "Projet Optimisation Groupe 2 : STOCK \n",
    "DESJONQUERES Henri, MARZIN Ewen "
   ]
  },
  {
   "cell_type": "markdown",
   "metadata": {},
   "source": [
    "I. Etude du problème d'optimisation\n",
    "\n",
    "1. La partie $  c^{T} \\cdot r =  \\displaystyle \\sum_{j=1}^{n} c_j * r_j$ correspond aux dépenses totales d'achat des matières premières. \n",
    "\n",
    "\\min \\{ q, d \\} correspond au nombre de produit vendu qui est en fait bien le minimum entre le nombre de produit fabriqués et la quantité prévisionnelle de vente : en effet si on a fabriqué trop peu de produits par rapport à la prévision de ventes, on ne pourra vendre qu'au plus tous les produits fabriqués et inversemment si on a fabriqué plus de produit que la quantité prévisionnelle des ventes alors on vend un nombre de produits qui correpond à cette prévision de ventes. \n",
    "\n",
    "La partie $ v^{T} \\cdot \\min (q, d) = \\displaystyle \\sum_{j=1}^{n} v_j * \\min (q_j, d_j)$ correspond alors au total de recettes des ventes des ventes des produits. \n",
    "La différence de la seconde moins la première nous donne donc le gain final de la boulangerie (recettes - dépenses)\n",
    "\n",
    "2. La fonction minimum est une fonction qui n'est pas différentiable donc cela complexifie la résolution du problème d'optimisation \n",
    "\n",
    "3. On considère la fonction $h : (d,q) -> h(d,q)$ définie par pour tout $i \\in \\llbracket ~1;p~ \\rrbracket$ : $h_i (d,q) = \\frac{q_i \\cdot e^{-\\alpha \\cdot q_i} + d_i \\cdot e^{-\\alpha \\cdot d_i}}{e^{-\\alpha \\cdot q_i} + e^{-\\alpha \\cdot d_i} }$ , avec $\\alpha >> 1$. \n",
    "\n",
    "Comme $\\alpha >> 1$, si $q_i > d_i$ alors on a $ e^{-\\alpha \\cdot d_i} >> e^{-\\alpha \\cdot q_i}$ (car $e^{\\alpha \\cdot (q_i - d_i)} -> + \\infty$ lorsque $\\alpha -> +\\infty$)\n",
    "\n",
    "Ainsi on a dans ce cas : $h_i(d,q) = \\frac{q_i \\cdot e^{- \\alpha \\cdot (q_i - d_i)} + d_i}{e^{- \\alpha \\cdot (q_i - d_i)} + 1 }$, et avec ${e^{- \\alpha \\cdot (q_i - d_i)} << 1$ on obtient que : \n",
    "$h_i(d,q) = \\frac{d_i + o(1)}{1+o(1)} ≈ d_i = \\min(d_i,q_i)$\n",
    "\n",
    "Si $q_i < d_i$ un raisonnement similaire nous donne dans ce cas : \n",
    "$h_i(d,q) = \\frac{d_i + o(1)}{1+o(1)} ≈ q_i = \\min(d_i,q_i)$\n",
    "\n",
    "Et si $d_i = q_i$, on obtient directement $h_i(d,q) = q_i = d_i = \\min(q_i, d_i)$\n",
    "\n",
    "On a donc bien une bonne approximation de la fonction min avec la fonction h. \n",
    "Il est plus intéressant de considérer ce problème là car la fonction h est $C^1$ comme composée de fonctions $C^1$ \n",
    "\n"
   ]
  }
 ],
 "metadata": {
  "language_info": {
   "name": "python"
  }
 },
 "nbformat": 4,
 "nbformat_minor": 2
}
